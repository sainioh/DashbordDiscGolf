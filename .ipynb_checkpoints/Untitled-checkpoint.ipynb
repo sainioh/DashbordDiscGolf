{
 "cells": [
  {
   "cell_type": "code",
   "execution_count": 1,
   "metadata": {},
   "outputs": [],
   "source": [
    "import sqlite3"
   ]
  },
  {
   "cell_type": "code",
   "execution_count": 2,
   "metadata": {},
   "outputs": [],
   "source": [
    "dg_db = sqlite3.connect('discgolf.db')\n",
    "c = dg_db.cursor()"
   ]
  },
  {
   "cell_type": "code",
   "execution_count": null,
   "metadata": {},
   "outputs": [],
   "source": [
    "c.execute('''\n",
    "SELECT * FROM hole;\n",
    "          ''')"
   ]
  },
  {
   "cell_type": "code",
   "execution_count": null,
   "metadata": {},
   "outputs": [],
   "source": [
    "print(c.fetchall())"
   ]
  },
  {
   "cell_type": "markdown",
   "metadata": {},
   "source": [
    "# Add round"
   ]
  },
  {
   "cell_type": "code",
   "execution_count": 7,
   "metadata": {},
   "outputs": [],
   "source": [
    "c.execute('''\n",
    "INSERT INTO round ('date') VALUES('2020-05-29');\n",
    "''')\n",
    "dg_db.commit()"
   ]
  },
  {
   "cell_type": "markdown",
   "metadata": {},
   "source": [
    "\"DROP VIEW \"main\".\"averages\";\n",
    "CREATE VIEW averages AS\n",
    "SELECT score.courseID, score.holeID, hole.holeNumber, AVG(score.strokes), AVG(score.putts)\n",
    "FROM score, hole, course\n",
    "WHERE hole.holeID = score.holeID\n",
    "GROUP BY score.holeID\""
   ]
  },
  {
   "cell_type": "markdown",
   "metadata": {},
   "source": [
    "# add scores"
   ]
  },
  {
   "cell_type": "code",
   "execution_count": null,
   "metadata": {},
   "outputs": [],
   "source": [
    "c.execute('''\n",
    "INSERT INTO score ('courseID','roundID','putts','strokes','holeID') VALUES(1,1,1,3,1),\n",
    "(1,1,2,4,2),(1,1,1,2,3),(1,1,1,2,4),(1,1,2,5,5),(1,1,2,3,6),(1,1,2,4,7),(1,1,1,2,8),\n",
    "(1,1,1,2,9),(1,1,2,3,10),(1,1,2,3,11),(1,1,2,4,12),(1,1,1,2,13),(1,1,2,3,14),(1,1,1,2,15),\n",
    "(1,1,1,2,16),(1,1,1,2,17),(1,1,1,2,18),(1,1,2,3,19),(1,1,2,4,20)\n",
    ";\n",
    "''')"
   ]
  },
  {
   "cell_type": "code",
   "execution_count": null,
   "metadata": {},
   "outputs": [],
   "source": [
    "dg_db.commit()"
   ]
  },
  {
   "cell_type": "code",
   "execution_count": 6,
   "metadata": {},
   "outputs": [],
   "source": [
    "c.execute('''\n",
    "INSERT INTO score ('courseID','roundID','putts','strokes','holeID') VALUES(1,2,1,2,1),(1,2,2,4,2),\n",
    "(1,2,2,4,3),(1,2,1,2,4),(1,2,1,2,5),(1,2,2,3,6),(1,2,1,2,7),(1,2,2,4,8),(1,2,2,3,9),(1,2,1,2,10),(1,2,1,2,11),\n",
    "(1,2,2,3,12),(1,2,2,3,13),(1,2,3,5,14),(1,2,1,2,15),(1,2,1,2,16),(1,2,1,2,17),(1,2,1,4,18),(1,2,1,4,19),(1,2,1,4,20)\n",
    ";\n",
    "''')\n",
    "dg_db.commit()"
   ]
  },
  {
   "cell_type": "code",
   "execution_count": 8,
   "metadata": {},
   "outputs": [],
   "source": [
    "c.execute('''\n",
    "INSERT INTO score ('courseID','roundID','putts','strokes','holeID') VALUES(1,3,2,3,1),(1,3,2,3,2),\n",
    "(1,3,1,3,3),(1,3,2,3,4),(1,3,1,2,5),(1,3,2,4,6),(1,3,1,2,7),(1,3,3,5,8),(1,3,2,3,9),(1,3,1,3,10),(1,3,1,3,11),\n",
    "(1,3,2,4,12),(1,3,1,2,13),(1,3,1,2,14),(1,3,2,3,15),(1,3,1,2,16),(1,3,1,3,17),(1,3,1,4,18),(1,3,1,3,19),(1,3,2,3,20)\n",
    ";\n",
    "''')\n",
    "dg_db.commit()"
   ]
  },
  {
   "cell_type": "code",
   "execution_count": null,
   "metadata": {},
   "outputs": [],
   "source": []
  }
 ],
 "metadata": {
  "kernelspec": {
   "display_name": "Python 3",
   "language": "python",
   "name": "python3"
  },
  "language_info": {
   "codemirror_mode": {
    "name": "ipython",
    "version": 3
   },
   "file_extension": ".py",
   "mimetype": "text/x-python",
   "name": "python",
   "nbconvert_exporter": "python",
   "pygments_lexer": "ipython3",
   "version": "3.8.3"
  }
 },
 "nbformat": 4,
 "nbformat_minor": 4
}
